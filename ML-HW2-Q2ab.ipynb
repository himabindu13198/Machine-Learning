{
 "cells": [
  {
   "cell_type": "code",
   "execution_count": 1,
   "metadata": {},
   "outputs": [],
   "source": [
    "import pandas as pd \n",
    "from sklearn.model_selection import train_test_split, KFold\n",
    "import numpy as np\n",
    "import math\n",
    "import matplotlib.pyplot as plt"
   ]
  },
  {
   "cell_type": "code",
   "execution_count": 2,
   "metadata": {},
   "outputs": [],
   "source": [
    "x = pd.read_csv('C:\\\\Users\\himab\\Documents\\spring2020\\ML\\hw2\\hw2-data\\Bayes_classifier\\X.csv', header = None)\n",
    "y = pd.read_csv('C:\\\\Users\\himab\\Documents\\spring2020\\ML\\hw2\\hw2-data\\Bayes_classifier\\Y.csv', header = None)"
   ]
  },
  {
   "cell_type": "code",
   "execution_count": 3,
   "metadata": {},
   "outputs": [],
   "source": [
    "#train test splitting\n",
    "x = np.array(x)\n",
    "y = np.array(y)\n",
    "X_train = {}\n",
    "X_test = {}\n",
    "y_train = {}\n",
    "y_test = {}\n",
    "i = 0\n",
    "for train_index, test_index in KFold(n_splits=10, shuffle = True).split(x):\n",
    "    X_train[i], X_test[i] = x[train_index], x[test_index]\n",
    "    y_train[i], y_test[i] = y[train_index], y[test_index]\n",
    "    i += 1"
   ]
  },
  {
   "cell_type": "code",
   "execution_count": 4,
   "metadata": {},
   "outputs": [
    {
     "data": {
      "text/plain": [
       "{0: 0.392512077294686,\n",
       " 1: 0.3983091787439614,\n",
       " 2: 0.39420289855072466,\n",
       " 3: 0.3879227053140097,\n",
       " 4: 0.39855072463768115,\n",
       " 5: 0.39420289855072466,\n",
       " 6: 0.3927536231884058,\n",
       " 7: 0.3922705314009662,\n",
       " 8: 0.39468599033816426,\n",
       " 9: 0.3958937198067633}"
      ]
     },
     "execution_count": 4,
     "metadata": {},
     "output_type": "execute_result"
    }
   ],
   "source": [
    "pi_val = {}\n",
    "for index in range(len(y_train)):\n",
    "    pi_val[index]=0\n",
    "    for i in range(len(y_train[index])):\n",
    "        pi_val[index] += y_train[index][i][0]\n",
    "    pi_val[index] /= len(y_train[index])\n",
    "pi_val\n",
    "# pi = (pi_val/len(y_train_vals))                           \n"
   ]
  },
  {
   "cell_type": "code",
   "execution_count": 5,
   "metadata": {},
   "outputs": [],
   "source": [
    "lam0 = {}\n",
    "lam1 = {}\n",
    "for i in range(len(X_train)):\n",
    "    l1 = {}\n",
    "    l2 = {}\n",
    "    x_vals = X_train[i]\n",
    "    y_vals = y_train[i]\n",
    "    for d in range(54):\n",
    "        a = b= s0 = s1 = 0\n",
    "        for j in range(len(x_vals)):\n",
    "            if y_vals[j] == 0:\n",
    "                s0 += x_vals[j][d]\n",
    "                a += 1\n",
    "            else:\n",
    "                s1 += x[j][d]\n",
    "                b += 1\n",
    "        l1[d] = (1+s0)/(1+a)\n",
    "        l2[d] = (1+s1)/(1+b)\n",
    "        lam0[i]=l1\n",
    "        lam1[i]=l2\n",
    "        "
   ]
  },
  {
   "cell_type": "code",
   "execution_count": 6,
   "metadata": {},
   "outputs": [
    {
     "name": "stderr",
     "output_type": "stream",
     "text": [
      "C:\\Users\\himab\\Anaconda3\\lib\\site-packages\\ipykernel_launcher.py:13: RuntimeWarning: overflow encountered in double_scalars\n",
      "  del sys.path[0]\n",
      "C:\\Users\\himab\\Anaconda3\\lib\\site-packages\\ipykernel_launcher.py:13: RuntimeWarning: invalid value encountered in double_scalars\n",
      "  del sys.path[0]\n"
     ]
    },
    {
     "name": "stdout",
     "output_type": "stream",
     "text": [
      "      0     1\n",
      "0  2315   472\n",
      "1   112  1701\n",
      "0.8730434782608696\n"
     ]
    }
   ],
   "source": [
    "from scipy.special import factorial\n",
    "import math\n",
    "u=v=w=z=0\n",
    "values = pd.DataFrame()\n",
    "y_new_dict = {}\n",
    "for i in range(len(X_test)):\n",
    "    l = {}\n",
    "    exp_0 = pow(pi_val[i],0)*pow(1-pi_val[i],1)\n",
    "    exp_1 = pow(pi_val[i],1)*pow(1-pi_val[i],0)\n",
    "    for j in range(len(X_test[i])):\n",
    "        val0=val1=1\n",
    "        for d in range(54):\n",
    "            val0 = val0*(pow(lam0[i][d],X_test[i][j][d])*math.exp(-lam0[i][d]))/factorial(X_test[i][j][d])\n",
    "            val1 = val1*(pow(lam1[i][d],X_test[i][j][d])*math.exp(-lam1[i][d]))/factorial(X_test[i][j][d])\n",
    "        y_0 = exp_0*val0\n",
    "        y_1 = exp_1*val1\n",
    "        if(y_1>y_0):\n",
    "            y = 1\n",
    "        else:\n",
    "            y = 0\n",
    "        l[j]=y\n",
    "        y_new_dict[i] = l\n",
    "        if(y_new_dict[i][j] == 0):\n",
    "            if(y_test[i][j] == 0):\n",
    "                u += 1\n",
    "            else:\n",
    "                v += 1\n",
    "        else:\n",
    "            if(y_test[i][j] == 0):\n",
    "                w += 1\n",
    "            else:\n",
    "                z += 1\n",
    "                \n",
    "values['0']=[u,v]\n",
    "values['1']=[w,z]\n",
    "print(values)\n",
    "print((values['0'][0]+values['1'][1])/4600)\n",
    "            \n",
    "    \n",
    "    "
   ]
  },
  {
   "cell_type": "code",
   "execution_count": 7,
   "metadata": {},
   "outputs": [],
   "source": [
    "#b\n",
    "list_0 = {}\n",
    "list_1 = {}\n",
    "for d in range(54):\n",
    "    s_0 = 0\n",
    "    s_1 = 0\n",
    "    for i in range(len(X_train)):\n",
    "        s_0 += lam0[i][d]\n",
    "        s_1 += lam1[i][d]\n",
    "    list_0[d] = s_0/10\n",
    "    list_1[d] = s_1/10\n",
    "    "
   ]
  },
  {
   "cell_type": "code",
   "execution_count": 25,
   "metadata": {},
   "outputs": [
    {
     "data": {
      "text/plain": [
       "<function matplotlib.pyplot.show(*args, **kw)>"
      ]
     },
     "execution_count": 25,
     "metadata": {},
     "output_type": "execute_result"
    },
    {
     "data": {
      "image/png": "[encoded data removed]",
      "text/plain": [
       "<Figure size 432x288 with 1 Axes>"
      ]
     },
     "metadata": {},
     "output_type": "display_data"
    }
   ],
   "source": [
    "x_list = []\n",
    "y_list = []\n",
    "for i,j in list_0.items():\n",
    "    x_list.append(i+1)\n",
    "    y_list.append(j)\n",
    "plt.style.use('seaborn-whitegrid')\n",
    "plt.stem(x_list, y_list, use_line_collection = True)\n",
    "plt.xticks(np.arange(min(x_list), max(x_list)+1, 2.0), rotation = 90)\n",
    "plt.xlabel('Dimension')\n",
    "plt.ylabel('Value')\n",
    "plt.title('Values of Dimensions for y = 0 (not spam)')\n",
    "plt.show"
   ]
  },
  {
   "cell_type": "code",
   "execution_count": 26,
   "metadata": {},
   "outputs": [
    {
     "data": {
      "text/plain": [
       "<function matplotlib.pyplot.show(*args, **kw)>"
      ]
     },
     "execution_count": 26,
     "metadata": {},
     "output_type": "execute_result"
    },
    {
     "data": {
      "image/png": "[encoded data removed]",
      "text/plain": [
       "<Figure size 432x288 with 1 Axes>"
      ]
     },
     "metadata": {},
     "output_type": "display_data"
    }
   ],
   "source": [
    "x_list1 = []\n",
    "y_list1 = []\n",
    "for i,j in list_1.items():\n",
    "    x_list1.append(i+1)\n",
    "    y_list1.append(j)\n",
    "plt.style.use('seaborn-whitegrid')\n",
    "plt.stem(x_list1, y_list1, use_line_collection = True)\n",
    "plt.xticks(np.arange(min(x_list1), max(x_list1)+1, 2.0), rotation = 90)\n",
    "plt.xlabel('Dimension')\n",
    "plt.ylabel('Value')\n",
    "plt.title('Values of Dimensions for y = 1 (spam)')\n",
    "plt.show"
   ]
  },
  {
   "cell_type": "code",
   "execution_count": null,
   "metadata": {},
   "outputs": [],
   "source": []
  }
 ],
 "metadata": {
  "kernelspec": {
   "display_name": "Python 3",
   "language": "python",
   "name": "python3"
  },
  "language_info": {
   "codemirror_mode": {
    "name": "ipython",
    "version": 3
   },
   "file_extension": ".py",
   "mimetype": "text/x-python",
   "name": "python",
   "nbconvert_exporter": "python",
   "pygments_lexer": "ipython3",
   "version": "3.7.4"
  }
 },
 "nbformat": 4,
 "nbformat_minor": 4
}

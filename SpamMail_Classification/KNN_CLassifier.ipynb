{
 "cells": [
  {
   "cell_type": "code",
   "execution_count": 1,
   "metadata": {},
   "outputs": [],
   "source": [
    "import pandas as pd \n",
    "from sklearn.model_selection import train_test_split, KFold\n",
    "import numpy as np\n",
    "import math\n",
    "from numpy import linalg as la"
   ]
  },
  {
   "cell_type": "code",
   "execution_count": 2,
   "metadata": {},
   "outputs": [],
   "source": [
    "x = pd.read_csv('C:\\\\Users\\himab\\Documents\\spring2020\\ML\\hw2\\hw2-data\\Bayes_classifier\\X.csv', header = None)\n",
    "y = pd.read_csv('C:\\\\Users\\himab\\Documents\\spring2020\\ML\\hw2\\hw2-data\\Bayes_classifier\\Y.csv', header = None)"
   ]
  },
  {
   "cell_type": "code",
   "execution_count": 3,
   "metadata": {},
   "outputs": [],
   "source": [
    "# # Select only the numeric columns from the NBA dataset\n",
    "# nba_numeric = nba[distance_columns]\n",
    "# # Normalize all of the numeric columns\n",
    "# nba_normalized = (nba_numeric - nba_numeric.mean()) / nba_numeric.std()"
   ]
  },
  {
   "cell_type": "code",
   "execution_count": 4,
   "metadata": {},
   "outputs": [],
   "source": [
    "#standardize data before using\n",
    "for i in range(len(x.columns)):\n",
    "    x[i] = (x[i] - x[i].mean())/x[i].std()"
   ]
  },
  {
   "cell_type": "code",
   "execution_count": 5,
   "metadata": {},
   "outputs": [],
   "source": [
    "#train test splitting\n",
    "x = np.array(x)\n",
    "y = np.array(y)\n",
    "X_train = {}\n",
    "X_test = {}\n",
    "y_train = {}\n",
    "y_test = {}\n",
    "i = 0\n",
    "for train_index, test_index in KFold(n_splits=10, shuffle = True, random_state = 5).split(x):\n",
    "    X_train[i], X_test[i] = x[train_index], x[test_index]\n",
    "    y_train[i], y_test[i] = y[train_index], y[test_index]\n",
    "    i += 1"
   ]
  },
  {
   "cell_type": "code",
   "execution_count": 6,
   "metadata": {},
   "outputs": [],
   "source": [
    "accuracy = {}\n",
    "for k in range(1,21):\n",
    "        accuracy[k] = 0\n",
    "for index in range(len(X_train)):\n",
    "    for i in range(len(X_test[index])):\n",
    "        distance = []\n",
    "        for j in range(len(X_train[index])):\n",
    "            d = np.sum(np.abs(X_train[index][j] - X_test[index][i]))\n",
    "            distance.append(d)\n",
    "        for k in range(1,21): \n",
    "            first_k = np.argsort(distance)[:k]\n",
    "            train = list(y_train[index][first_k])\n",
    "            n0 = train.count(0)\n",
    "            n1 = train.count(1)\n",
    "            if(n0<= n1):\n",
    "                output = 1\n",
    "            else:\n",
    "                output = 0\n",
    "            if(output == y_test[index][i]):\n",
    "                accuracy[k] += 1\n",
    "            \n",
    "        "
   ]
  },
  {
   "cell_type": "code",
   "execution_count": 7,
   "metadata": {},
   "outputs": [
    {
     "data": {
      "text/plain": [
       "{1: 4200,\n",
       " 2: 4116,\n",
       " 3: 4176,\n",
       " 4: 4184,\n",
       " 5: 4214,\n",
       " 6: 4212,\n",
       " 7: 4189,\n",
       " 8: 4206,\n",
       " 9: 4190,\n",
       " 10: 4212,\n",
       " 11: 4178,\n",
       " 12: 4201,\n",
       " 13: 4171,\n",
       " 14: 4196,\n",
       " 15: 4165,\n",
       " 16: 4186,\n",
       " 17: 4160,\n",
       " 18: 4175,\n",
       " 19: 4153,\n",
       " 20: 4168}"
      ]
     },
     "execution_count": 7,
     "metadata": {},
     "output_type": "execute_result"
    }
   ],
   "source": [
    "accuracy"
   ]
  },
  {
   "cell_type": "code",
   "execution_count": 8,
   "metadata": {},
   "outputs": [
    {
     "data": {
      "text/plain": [
       "{1: 0.9130434782608695,\n",
       " 2: 0.8947826086956522,\n",
       " 3: 0.9078260869565218,\n",
       " 4: 0.9095652173913044,\n",
       " 5: 0.9160869565217391,\n",
       " 6: 0.9156521739130434,\n",
       " 7: 0.9106521739130434,\n",
       " 8: 0.9143478260869565,\n",
       " 9: 0.9108695652173913,\n",
       " 10: 0.9156521739130434,\n",
       " 11: 0.9082608695652173,\n",
       " 12: 0.9132608695652173,\n",
       " 13: 0.9067391304347826,\n",
       " 14: 0.9121739130434783,\n",
       " 15: 0.9054347826086957,\n",
       " 16: 0.91,\n",
       " 17: 0.9043478260869565,\n",
       " 18: 0.907608695652174,\n",
       " 19: 0.9028260869565218,\n",
       " 20: 0.9060869565217391}"
      ]
     },
     "execution_count": 8,
     "metadata": {},
     "output_type": "execute_result"
    }
   ],
   "source": [
    "for i in range(1,21):\n",
    "    accuracy[i] = accuracy[i]/4600\n",
    "accuracy"
   ]
  },
  {
   "cell_type": "code",
   "execution_count": 9,
   "metadata": {},
   "outputs": [],
   "source": [
    "l = []\n",
    "for key, value in accuracy.items():\n",
    "    temp = [key,value]\n",
    "    l.append(value)"
   ]
  },
  {
   "cell_type": "code",
   "execution_count": 10,
   "metadata": {},
   "outputs": [
    {
     "data": {
      "text/plain": [
       "0    0.916087\n",
       "dtype: float64"
      ]
     },
     "execution_count": 10,
     "metadata": {},
     "output_type": "execute_result"
    }
   ],
   "source": [
    "l_pd = pd.DataFrame(l)\n",
    "l_pd.max()"
   ]
  },
  {
   "cell_type": "code",
   "execution_count": 11,
   "metadata": {},
   "outputs": [
    {
     "data": {
      "image/png": "[encoded data removed]",
      "text/plain": [
       "<Figure size 432x288 with 1 Axes>"
      ]
     },
     "metadata": {
      "needs_background": "light"
     },
     "output_type": "display_data"
    }
   ],
   "source": [
    "import matplotlib.pyplot as plt\n",
    "plt.plot(l_pd.index.values + 1,l_pd[0])\n",
    "plt.xticks(np.arange(min(l_pd.index.values + 1), max(l_pd.index.values + 1)+1, 1.0))\n",
    "plt.grid()\n",
    "plt.title('Accuracy vs k')\n",
    "plt.xlabel('k')\n",
    "plt.ylabel('Accuracy')\n",
    "plt.show()"
   ]
  },
  {
   "cell_type": "code",
   "execution_count": null,
   "metadata": {},
   "outputs": [],
   "source": []
  }
 ],
 "metadata": {
  "kernelspec": {
   "display_name": "Python 3",
   "language": "python",
   "name": "python3"
  },
  "language_info": {
   "codemirror_mode": {
    "name": "ipython",
    "version": 3
   },
   "file_extension": ".py",
   "mimetype": "text/x-python",
   "name": "python",
   "nbconvert_exporter": "python",
   "pygments_lexer": "ipython3",
   "version": "3.7.4"
  }
 },
 "nbformat": 4,
 "nbformat_minor": 4
}
